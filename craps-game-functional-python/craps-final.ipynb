{
 "cells": [
  {
   "cell_type": "code",
   "execution_count": 1,
   "id": "7d9d4149",
   "metadata": {},
   "outputs": [],
   "source": [
    "# Function 1: display_table\n",
    "\n",
    "def display_table(table_bets):\n",
    "    \"\"\"prints the craps table with the placed bets, as strings, for each outcome/roll\"\"\"\n",
    "    print(\"POINT BETS\")\n",
    "    print(\"|__4__| > \" + table_bets[2])\n",
    "    print(\"|__5__| > \" + table_bets[3])\n",
    "    print(\"|__6__| > \" + table_bets[4])\n",
    "    print(\"|__8__| > \" + table_bets[5]) \n",
    "    print(\"|__9__| > \" + table_bets[6]) \n",
    "    print(\"|__10_| > \" + table_bets[7]) \n",
    "    print(\"          \")\n",
    "    print(\"OTHER BETS\")\n",
    "    print(\"|__2__| > \" + table_bets[0]) \n",
    "    print(\"|__3__| > \" + table_bets[1])\n",
    "    print(\"|__11_| > \" + table_bets[8]) \n",
    "    print(\"|__12_| > \" + table_bets[9])"
   ]
  },
  {
   "cell_type": "code",
   "execution_count": 2,
   "id": "302a7b27",
   "metadata": {},
   "outputs": [],
   "source": [
    "# Function 2: ask_for_bets\n",
    "\n",
    "# Added functionality:\n",
    "## Simplify the entry to not have to enter something for every value\n",
    "## Accept floats and int\n",
    "\n",
    "all_bets = [0,0,0,0,0,0,0,0,0,0]\n",
    "    # 10 available outcomes / bets\n",
    "    # bet2 = all_bets[0]\n",
    "    # bet3 = all_bets[1]\n",
    "    # bet4 = all_bets[2]\n",
    "    # bet5 = all_bets[3]\n",
    "    # bet6 = all_bets[4]\n",
    "    # bet8 = all_bets[5]\n",
    "    # bet9 = all_bets[6]\n",
    "    # bet10 = all_bets[7]\n",
    "    # bet11 = all_bets[8]\n",
    "    # bet12 = all_bets[9]\n",
    "\n",
    "def ask_for_bets():\n",
    "    \"\"\"checks for existing bets, for any bet==0 asks the user to input a bet at the list index. returns the total bet for confirmation\"\"\"\n",
    "    print(\"Place your bets on each number.\")\n",
    "    \n",
    "    while sum(all_bets) == 0:\n",
    "        try:\n",
    "            all_bets[0] = float(input(\"2: \"))\n",
    "            all_bets[1] = float(input(\"3: \"))\n",
    "            all_bets[2] = float(input(\"4: \"))\n",
    "            all_bets[3] = float(input(\"5: \"))\n",
    "            all_bets[4] = float(input(\"6: \"))\n",
    "            all_bets[5] = float(input(\"8: \"))\n",
    "            all_bets[6] = float(input(\"9: \"))\n",
    "            all_bets[7] = float(input(\"10: \"))\n",
    "            all_bets[8] = float(input(\"11: \"))\n",
    "            all_bets[9] = float(input(\"12: \"))\n",
    "        except:\n",
    "            print(\"You must enter a number only. Enter this bet again.\")\n",
    "            \n",
    "    return print(f\" Your total bet amount is: {sum(all_bets)}\")"
   ]
  },
  {
   "cell_type": "code",
   "execution_count": 3,
   "id": "8c8d3b95",
   "metadata": {},
   "outputs": [],
   "source": [
    "# Function 3: place_bets\n",
    "\n",
    "def place_bets(all_bets):\n",
    "    \"\"\"converts inputted list of bets from int > str, as new list associated with display_table func\"\"\"\n",
    "    table_bets = [str(i) for i in all_bets]\n",
    "    return table_bets\n"
   ]
  },
  {
   "cell_type": "code",
   "execution_count": 4,
   "id": "2f941583",
   "metadata": {},
   "outputs": [],
   "source": [
    "# Function 4: roll_dice\n",
    "\n",
    "import random\n",
    "\n",
    "def roll_dice():\n",
    "    \"\"\"asks user if they're ready to roll. when confirmed produces tuple of 2 randints from 1-6\"\"\"\n",
    "    print(\"Bets are down. Time to roll shooter!\")\n",
    "    \n",
    "    roll_ready = input(\"Are you ready to roll? Enter ROLL if you're ready. \").upper()\n",
    "    \n",
    "    while roll_ready != \"ROLL\":\n",
    "        roll_ready = input(\"Bad roll shooter! Wrong input. Enter ROLL if you're ready. \").upper()\n",
    "    else:\n",
    "        dice = (random.randint(1,6), random.randint(1,6))\n",
    "        return dice"
   ]
  },
  {
   "cell_type": "code",
   "execution_count": 5,
   "id": "8b8dcc85",
   "metadata": {},
   "outputs": [],
   "source": [
    "# Function 5: check_dice_7\n",
    "\n",
    "def check_dice_7(roll_dice):\n",
    "    \"\"\"checks if the sum of roll_dice is a losing 7 or craps\"\"\"\n",
    "    total_dice = sum(roll_dice)\n",
    "    return total_dice == 7"
   ]
  },
  {
   "cell_type": "code",
   "execution_count": 6,
   "id": "d02407bf",
   "metadata": {},
   "outputs": [],
   "source": [
    "# Function 6: check_dice_winning\n",
    "\n",
    "def check_dice_winning(roll_dice):\n",
    "    \"\"\"checks if the sum of roll_dice is a winning roll\"\"\"\n",
    "    total_dice = sum(roll_dice)\n",
    "    return total_dice != 7"
   ]
  },
  {
   "cell_type": "code",
   "execution_count": 7,
   "id": "057e2c04",
   "metadata": {},
   "outputs": [],
   "source": [
    "# Function 7: payout_win\n",
    "\n",
    "def payout_win(roll_dice, all_bets):\n",
    "    \"\"\"calculates the winnings from the amount bet on the winning roll_dice and confirms total amount won\"\"\"\n",
    "    winnings = 0\n",
    "    if roll_dice == 2:\n",
    "        winnings = winnings + all_bets[0]*7.5\n",
    "    elif roll_dice == 3:\n",
    "        winnings = winnings + all_bets[1]*3.75\n",
    "    elif roll_dice == 4:\n",
    "        winnings = winnings + all_bets[2]*2\n",
    "    elif roll_dice == 5:\n",
    "        winnings = winnings + all_bets[3]/2*3\n",
    "    elif roll_dice == 6:\n",
    "        winnings = winnings + all_bets[4]/5*6\n",
    "    elif roll_dice == 8:\n",
    "        winnings = winnings + all_bets[5]/5*6\n",
    "    elif roll_dice == 9:\n",
    "        winnings = winnings + all_bets[6]/2*3\n",
    "    elif roll_dice == 10:\n",
    "        winnings = winnings + all_bets[7]*2\n",
    "    elif roll_dice == 11:\n",
    "        winnings = winnings + all_bets[8]*3.75\n",
    "    elif roll_dice == 12:\n",
    "        winnings = winnings + all_bets[9]*7.5\n",
    "\n",
    "    return print(f\"You won {winnings}!\")"
   ]
  },
  {
   "cell_type": "code",
   "execution_count": 8,
   "id": "279a6188",
   "metadata": {},
   "outputs": [],
   "source": [
    "# Function 8: roll_again\n",
    "## an edited version of roll_dice for the while loop if dice == 7\n",
    "\n",
    "import random\n",
    "\n",
    "def roll_again():\n",
    "    \"\"\"copy of roll_dice with edit to beginning print statement\"\"\"\n",
    "    print(\"You're still on the table. Roll again shooter!\")\n",
    "    \n",
    "    roll_ready = input(\"Are you ready to roll? Enter ROLL if you're ready. \").upper()\n",
    "    \n",
    "    while roll_ready != \"ROLL\":\n",
    "        roll_ready = input(\"Bad roll shooter! Wrong input. Enter ROLL if you're ready. \").upper()\n",
    "    else:\n",
    "        dice = (random.randint(1,6), random.randint(1,6))\n",
    "        return dice\n",
    "    "
   ]
  },
  {
   "cell_type": "code",
   "execution_count": null,
   "id": "4539c0ed",
   "metadata": {},
   "outputs": [],
   "source": [
    "# Function 9: replay\n",
    "\n",
    "def replay():\n",
    "    \"\"\"asks the user if they would like to play the game again, returns true or false\"\"\"\n",
    "    return input(\"Would you like to play again? Y/N? \").lower().startswith('y')"
   ]
  },
  {
   "cell_type": "code",
   "execution_count": null,
   "id": "ac27e136",
   "metadata": {},
   "outputs": [],
   "source": [
    "## FINAL CODE BELOW"
   ]
  },
  {
   "cell_type": "code",
   "execution_count": null,
   "id": "260039a0",
   "metadata": {},
   "outputs": [],
   "source": [
    "print(\"Welcome to Casino Royale!\")\n",
    "\n",
    "while True:\n",
    "    # clear the table\n",
    "    all_bets = [0,0,0,0,0,0,0,0,0,0]\n",
    "    table_bets = []\n",
    "    \n",
    "    # asking if the user is ready\n",
    "    play_game = input(\"Are you ready to lose... I mean win some $$$? Enter Yes or No. \")\n",
    "    \n",
    "    if play_game.lower()[0] == \"y\":\n",
    "        game_on = True\n",
    "    else:\n",
    "        game_on = False\n",
    "        \n",
    "    while game_on:\n",
    "        ask_for_bets()\n",
    "        table_bets = place_bets(all_bets)\n",
    "        \n",
    "        display_table(table_bets)\n",
    "        \n",
    "        dice = roll_dice()\n",
    "        print(f\"You rolled a {dice}\")\n",
    "        \n",
    "        while check_dice_winning(dice) == True:\n",
    "            print(\"NICE! You won some $$$. Let's see how much: \")\n",
    "            winnings = payout_win(sum(dice), all_bets)\n",
    "            dice = roll_again()\n",
    "            print(f\"You rolled a {dice}\")\n",
    "        else:\n",
    "            print(\"Crap... you crapped out.\")\n",
    "            break\n",
    "        \n",
    "    if not replay():\n",
    "        break"
   ]
  },
  {
   "cell_type": "markdown",
   "id": "c8238d3b",
   "metadata": {},
   "source": [
    "# "
   ]
  }
 ],
 "metadata": {
  "kernelspec": {
   "display_name": "Python 3",
   "language": "python",
   "name": "python3"
  },
  "language_info": {
   "codemirror_mode": {
    "name": "ipython",
    "version": 3
   },
   "file_extension": ".py",
   "mimetype": "text/x-python",
   "name": "python",
   "nbconvert_exporter": "python",
   "pygments_lexer": "ipython3",
   "version": "3.8.8"
  }
 },
 "nbformat": 4,
 "nbformat_minor": 5
}
